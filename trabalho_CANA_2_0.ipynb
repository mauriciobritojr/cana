{
  "nbformat": 4,
  "nbformat_minor": 0,
  "metadata": {
    "kernelspec": {
      "display_name": "Python 3",
      "language": "python",
      "name": "python3"
    },
    "language_info": {
      "codemirror_mode": {
        "name": "ipython",
        "version": 3
      },
      "file_extension": ".py",
      "mimetype": "text/x-python",
      "name": "python",
      "nbconvert_exporter": "python",
      "pygments_lexer": "ipython3",
      "version": "3.7.6"
    },
    "colab": {
      "name": "trabalho CANA 2.0.ipynb",
      "provenance": [],
      "include_colab_link": true
    }
  },
  "cells": [
    {
      "cell_type": "markdown",
      "metadata": {
        "id": "view-in-github",
        "colab_type": "text"
      },
      "source": [
        "<a href=\"https://colab.research.google.com/github/mauriciobritojr/cana/blob/master/trabalho_CANA_2_0.ipynb\" target=\"_parent\"><img src=\"https://colab.research.google.com/assets/colab-badge.svg\" alt=\"Open In Colab\"/></a>"
      ]
    },
    {
      "cell_type": "code",
      "metadata": {
        "id": "HJOLny-ihYpA",
        "colab_type": "code",
        "colab": {},
        "outputId": "ef3b881e-24a1-4fbe-9ef3-5788dbaff6f9"
      },
      "source": [
        "# 1 - MÓDULO PRINCIPAL\n",
        "\n",
        "# Tratamento dos arquivo de entrada.txt\n",
        "arquivo = open(\"entrada_esp.txt\",\"r\")\n",
        "campos=[]\n",
        "chaves=[]\n",
        "valores=[]\n",
        "ch_periodos=[]\n",
        "vl_periodos=[]\n",
        "chave_per=[]\n",
        "dicionario={}\n",
        "\n",
        "#LER cada para cada linha do arquivo.\n",
        "linha=arquivo.readlines()\n",
        "ind=0\n",
        "for registro in linha:\n",
        "    \n",
        "    registro=registro.rstrip(\"\\n\") #Elimina o código New Line\n",
        "    campos=registro.split(\" \") #Ler cada registro e retira os espaços existente e guarda na lista campos\n",
        "    \n",
        "    if ind == 0:\n",
        "        #Para a primeira liha do arquivo, extrai a quantidade de meses(n), fornecedores(m) e taxa de cancelamento\n",
        "        n = int(campos[0])\n",
        "        m = int(campos[1])\n",
        "        taxa = float(campos[2])\n",
        "        #Mostra o cabeçalho\n",
        "        print(\"n m taxa: \", n, m, taxa)   \n",
        "    else:\n",
        "    \n",
        "        #Cria a lista de chaves com os campos fornecedor, mês inicial e mês final\n",
        "        chaves.append(int(campos[0]+campos[1]+campos[2]))\n",
        "        #Cria a lista de valores correspondentes\n",
        "        valores.append(float(campos[3]))\n",
        "        \n",
        "        #Cria a lista de chaves com os campos mês inicial, mês final e fornecedor\n",
        "        ch_periodos.append(int(campos[1]+campos[2]+campos[0]))\n",
        "        #Cria a lista de valores correspondentes\n",
        "        vl_periodos.append(float(campos[3]))\n",
        "      \n",
        "    ind+=1\n",
        "#\n",
        "# ORDENA as listas por seus valores \n",
        "# merge_sort(chaves, valores) #Os parâmetros são duas listas complementares que serão ordenadas sincronizadas\n",
        "# print(chaves,\"\\n\", valores)\n",
        "\n",
        "# ORDENA as listas por períodos e chavas associadas\n",
        "merge_sort(vl_periodos,ch_periodos)\n",
        "print(ch_periodos,\"\\n\", vl_periodos)\n",
        "\n",
        "#Cria um dicionário de chaves para agilizar as buscas por períodos\n",
        "dicionario=cria_dicionario(ch_periodos, vl_periodos)\n",
        "print(\"dicionario \", dicionario)\n",
        "\n",
        "# (c): n meses, contrato individual, período completo, menor valor?\n",
        "qtd_mes=int(input(\"Quantos meses de contrato? \"))\n",
        "if qtd_mes >=2:\n",
        "    multi_for=input(\"Multi-fornecedores? (S-Sim, N-Não) \")\n",
        "\n",
        "# qtd_prev=int(input(\"Previsão para o futuro em meses? \"))\n",
        "\n",
        "#\n",
        "if qtd_mes==1:\n",
        "    chave_per.append(11)\n",
        "elif multi_for==\"S\":\n",
        "    for i in range(1, qtd_mes+1):\n",
        "        \n",
        "        for j in range(i,qtd_mes+1):\n",
        "            token=str(i)+str(j)\n",
        "            chave_per.append(int(token))\n",
        "else:\n",
        "    token=\"1\"+str(qtd_mes)\n",
        "    chave_per.append(int(token))\n",
        "print(chave_per)\n",
        "\n",
        "# Forma o vetor de possibilidade de solução - Faz a busca Binária do melhor contrato\n",
        "for i in chave_per:\n",
        "    localizacao = busca_binaria(ch_periodos, i)\n",
        "    if localizacao == -1:\n",
        "        print(\"Elemento não encontrado.\")\n",
        "    else:\n",
        "        print(\"Localização do elemento: \" + str(localizacao) + \".\")  # localizacao comecando em 0\n",
        "print(\"Resultado: \", ch_periodos[localizacao], vl_periodos[localizacao])\n",
        "arquivo.close()"
      ],
      "execution_count": 0,
      "outputs": [
        {
          "output_type": "stream",
          "text": [
            "n m taxa:  120 100 100.0\n",
            "[111, 112, 113, 114, 115, 121, 122, 123, 124, 131, 132, 133, 134, 142, 144, 154, 221, 222, 223, 224, 225, 231, 232, 233, 234, 241, 242, 243, 244, 252, 254, 331, 332, 333, 334, 335, 341, 342, 343, 344, 351, 352, 353, 354, 441, 442, 443, 444, 445, 451, 452, 453, 454, 551, 552, 553, 554, 555] \n",
            " [19.2, 18.4, 16.6, 16.1, 18.3, 21.8, 28.9, 28.1, 32.1, 31.4, 36.4, 29.3, 36.1, 44.2, 46.8, 49.0, 14.2, 19.8, 19.6, 17.0, 18.5, 25.2, 24.2, 27.9, 23.0, 28.2, 28.9, 34.4, 31.1, 38.6, 36.3, 12.5, 12.6, 13.3, 12.6, 18.0, 18.2, 19.7, 29.9, 24.1, 22.9, 26.9, 30.6, 26.7, 11.4, 19.6, 17.0, 19.2, 10.8, 17.8, 23.0, 17.4, 20.3, 16.6, 11.0, 15.0, 15.8, 13.6]\n",
            "dicionario  {11: [19.2, 18.4, 16.6, 16.1, 18.3], 12: [21.8, 28.9, 28.1, 32.1], 13: [31.4, 36.4, 29.3, 36.1], 14: [44.2, 46.8], 15: [49.0], 22: [14.2, 19.8, 19.6, 17.0, 18.5], 23: [25.2, 24.2, 27.9, 23.0], 24: [28.2, 28.9, 34.4, 31.1], 25: [38.6, 36.3], 33: [12.5, 12.6, 13.3, 12.6, 18.0], 34: [18.2, 19.7, 29.9, 24.1], 35: [22.9, 26.9, 30.6, 26.7], 44: [11.4, 19.6, 17.0, 19.2, 10.8], 45: [17.8, 23.0, 17.4, 20.3], 55: [16.6, 11.0, 15.0, 15.8, 13.6]}\n",
            "Quantos meses de contrato? 4\n",
            "Multi-fornecedores? (S-Sim, N-Não) n\n",
            "[14]\n",
            "meio  28 vl vetor  24 Busca  14\n",
            "meio  13 vl vetor  14 Busca  14\n",
            "Localização do elemento: 13.\n",
            "Resultado:  142 44.2\n"
          ],
          "name": "stdout"
        }
      ]
    },
    {
      "cell_type": "code",
      "metadata": {
        "id": "JnCf9dEvhYpO",
        "colab_type": "code",
        "colab": {}
      },
      "source": [
        "# 2 - Função de ordenação - Merge-Sort: recebe os contratos (duas listas com chave/valor) e ordena pelo valor.\n",
        "\n",
        "def merge_sort(chaves, valores):\n",
        "    if len(chaves) > 1: \n",
        "        meio = len(chaves)//2 #Encontra o meio do dicionário \n",
        "        \n",
        "        esquerda_ch = chaves[:meio]  #Divide as listas...\n",
        "        esquerda_vl = valores[:meio]\n",
        "        \n",
        "        direita_ch  = chaves[meio:]  # em duas metades\n",
        "        direita_vl  = valores[meio:]\n",
        "#         print(\"Esquerda \", esquerda_ch, \" |    \", direita_ch, \" Direita\") # Ordena a 1a. metade\n",
        "#         print(\"         \", esquerda_vl, \" |    \", direita_vl, \"        \")   # Ordena a 2a. metade\n",
        "#         print(\"------------------Chama Mersort-------------------gira\")\n",
        "        merge_sort(esquerda_ch, esquerda_vl) # Ordena a 1a. metade\n",
        "        merge_sort(direita_ch, direita_vl)   # Ordena a 2a. metade\n",
        "\n",
        "        \n",
        "        i = j = k = 0 \n",
        "\n",
        "        # move os dados para as listas temporários esquerda e direita. \n",
        "        while i < len(esquerda_vl) and j < len(direita_vl): \n",
        "            if esquerda_vl[i] < direita_vl[j]: \n",
        "                chaves[k] = esquerda_ch[i]\n",
        "                valores[k] = esquerda_vl[i] \n",
        "                i+=1\n",
        "            else: \n",
        "                chaves[k] = direita_ch[j] \n",
        "                valores[k] = direita_vl[j] \n",
        "                j+=1\n",
        "            k+=1\n",
        "\n",
        "        # Confere se algum elemento foi deixado \n",
        "        while i < len(esquerda_vl): \n",
        "            chaves[k] = esquerda_ch[i]\n",
        "            valores[k] = esquerda_vl[i] \n",
        "            i+=1\n",
        "            k+=1\n",
        "\n",
        "        while j < len(direita_vl): \n",
        "            chaves[k] = direita_ch[j]\n",
        "            valores[k] = direita_vl[j] \n",
        "            j+=1\n",
        "            k+=1"
      ],
      "execution_count": 0,
      "outputs": []
    },
    {
      "cell_type": "code",
      "metadata": {
        "id": "IzLqhQ2QhYpX",
        "colab_type": "code",
        "colab": {}
      },
      "source": [
        "# 3 - Função Busca Binária: Recebe um lista Ordenada e Encontra o elemento n\n",
        "def busca_binaria(vetor,x):\n",
        "\n",
        "    esq = 0\n",
        "    dir = len(vetor) - 1\n",
        "\n",
        "    while esq <= dir:\n",
        "\n",
        "        meio = (esq + dir) // 2  # operador // significa divisão inteira (truncada)\n",
        "        \n",
        "        vl_vetor=str(vetor[meio])\n",
        "        ch_vetor=int(vl_vetor[0]+vl_vetor[1])\n",
        "        print(\"meio \", meio, \"vl vetor \", ch_vetor, \"Busca \", x)\n",
        "        \n",
        "#         if vetor[meio] == x:\n",
        "        if ch_vetor == x:\n",
        "            return meio\n",
        "#         elif x < vetor[meio]:\n",
        "        elif x < ch_vetor:\n",
        "            dir = meio - 1\n",
        "        elif x > meio:\n",
        "            esq = meio + 1\n",
        "\n",
        "    return -1 # retorna -1 se o elemento não foi encontrado\n",
        "\n",
        "\n",
        "# a = list(range(1, 100)) # não inclui o valor 100\n",
        "\n",
        "# x = int(input(\"Elemento a ser buscado: \"))\n",
        "\n",
        "# localizacao = busca_binaria(a, x)\n",
        "\n",
        "# if localizacao == -1:\n",
        "#     print(\"Elemento não encontrado.\")\n",
        "# else:\n",
        "#     print(\"Localização do elemento: \" + str(localizacao) + \".\")  # localizacao comecando em 0"
      ],
      "execution_count": 0,
      "outputs": []
    },
    {
      "cell_type": "code",
      "metadata": {
        "id": "h1AOTSSvhYpe",
        "colab_type": "code",
        "colab": {}
      },
      "source": [
        "# 4 - Função que Cria um dicionário de períodos (recebe uma lista de chaves ordenadas e seus valores)\n",
        "def cria_dicionario (chaves, valores):\n",
        "    global dic\n",
        "    dic={}\n",
        "    lista_aux=[]\n",
        "    i=0\n",
        "    flag=True\n",
        "    vl_kant=0\n",
        "    \n",
        "    for key in chaves:\n",
        "        str_key=str(key)                    # Cria chave com mês inicial e mês final\n",
        "        vl_key=int(str_key[0]+str_key[1])\n",
        "#         print(i, vl_key, vl_kant)\n",
        "        \n",
        "        if i==0: # flag de inicialização\n",
        "            flag=True\n",
        "#             print(\"Vl_key != Vl_kant E i=0\", flag)  \n",
        "        elif vl_key != vl_kant:\n",
        "            flag=False\n",
        "#             print(\"Vl_key <> Vl_kant \", flag)\n",
        "        else:\n",
        "            flag=True\n",
        "#             print(\"Vl_key = Vl_kant \", flag)  \n",
        "        \n",
        "        if flag == True:\n",
        "            lista_aux.append(valores[i])   \n",
        "        else:\n",
        "            dic[vl_kant]=lista_aux\n",
        "            lista_aux=[]\n",
        "            lista_aux.append(valores[i])\n",
        "            \n",
        "        # Último ítem da lista\n",
        "#         print(i, len(chaves))\n",
        "        if i == (len(chaves)-1):\n",
        "            dic[vl_key]=lista_aux\n",
        "\n",
        "        vl_kant=vl_key\n",
        "#         print(\"Lista_aux\", lista_aux)\n",
        "\n",
        "        i+=1\n",
        "           \n",
        "    return dic"
      ],
      "execution_count": 0,
      "outputs": []
    },
    {
      "cell_type": "code",
      "metadata": {
        "id": "x_wVOnpHhYpl",
        "colab_type": "code",
        "colab": {}
      },
      "source": [
        "dic={\"111\": 19.2, \"122\": 14.2, \"133\": 12.5, \"144\": 11.4, \"155\": 16.6, \"166\": 14.0, \"177\": 19.6,\\ \n",
        "           \"188\": 15.2, \"199\": 11.2, \"11010\": 10.6}\n",
        "esquerda = direita = {}\n",
        "meio=0\n",
        "print(len(dic), len(dic)//2)\n",
        "esquerda = dic[:meio][...] # Divide o dicionário...\n",
        "direita = dic[meio:][...] # em duas metades \n",
        "print(esquerda)\n",
        "print(direita)\n",
        "# print(\"Contratos Ordenados por Valor:\\n\", merge_sort(contratos))"
      ],
      "execution_count": 0,
      "outputs": []
    },
    {
      "cell_type": "code",
      "metadata": {
        "id": "eG5bVihihYpr",
        "colab_type": "code",
        "colab": {}
      },
      "source": [
        "# Imprimir as listas item a item \n",
        "def printlist(chaves, valores): \n",
        "    for i in range(len(chaves)):\n",
        "        print(chaves[i], valores[i])\n",
        "#         print(valores[i],end=\" \")\n",
        "    print() "
      ],
      "execution_count": 0,
      "outputs": []
    },
    {
      "cell_type": "code",
      "metadata": {
        "id": "pbdsSbGzhYpx",
        "colab_type": "code",
        "colab": {}
      },
      "source": [
        "## Adicione cada caractere, e é ordinal, da entrada de texto do usuário, a duas listas \n",
        "s  =  input ( \"Digite o valor:\" )   # esta linha requer Python 3.x, use raw_input () em vez de input () no Python 2.x\n",
        "\n",
        "l1 = [ c  for  c  in  s ]    # no Python, uma string é apenas uma sequência, para que possamos iterar sobre ela! \n",
        "l2 = [ ord ( c )  for  c  in  s ]\n",
        "\n",
        "print ( l1 ) \n",
        "print ( l2 )"
      ],
      "execution_count": 0,
      "outputs": []
    },
    {
      "cell_type": "code",
      "metadata": {
        "id": "BZ8mjCO8hYp6",
        "colab_type": "code",
        "colab": {}
      },
      "source": [
        "# Encontra chave do menor valor em um dicionário\n",
        "# d={\"a\": 3, \"b\": 2, \"c\": 5}\n",
        "d={}\n",
        "print(min({1: \"one\", 2: \"two\", 3: \"three\"}))\n",
        "minimo = min(d, key=d.get, default=0)\n",
        "print(minimo)\n",
        "maximo = max(d, key=d.get, default=0)\n",
        "print(maximo)"
      ],
      "execution_count": 0,
      "outputs": []
    },
    {
      "cell_type": "code",
      "metadata": {
        "id": "hdIGPBf0hYqA",
        "colab_type": "code",
        "colab": {}
      },
      "source": [
        "qtd_mes=int(input(\"Quantos meses de contrato? \"))\n",
        "min=(100*qtd_mes)+1\n",
        "max=(100*qtd_mes)+101\n",
        "for i in range(min, max):\n",
        "    print(i)"
      ],
      "execution_count": 0,
      "outputs": []
    },
    {
      "cell_type": "code",
      "metadata": {
        "id": "IHcTOIEyhYqI",
        "colab_type": "code",
        "colab": {}
      },
      "source": [
        "dic = {}\n",
        "lista = [19.3, 15.4, 12.6]\n",
        "dic['111'] = lista\n",
        "print (dic)\n",
        "lista.append('a')\n",
        "print (dic)\n"
      ],
      "execution_count": 0,
      "outputs": []
    },
    {
      "cell_type": "code",
      "metadata": {
        "id": "N1q8uu-8hYqP",
        "colab_type": "code",
        "colab": {},
        "outputId": "e768185a-4fe8-49f0-956d-c200095f6532"
      },
      "source": [
        "lista=[19.2, 18.4, 21.8, 28.9, 31.4]\n",
        "for i in enumerate(lista):\n",
        "    print(i)"
      ],
      "execution_count": 0,
      "outputs": [
        {
          "output_type": "stream",
          "text": [
            "(0, 19.2)\n",
            "(1, 18.4)\n",
            "(2, 21.8)\n",
            "(3, 28.9)\n",
            "(4, 31.4)\n"
          ],
          "name": "stdout"
        }
      ]
    }
  ]
}